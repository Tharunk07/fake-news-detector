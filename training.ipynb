{
 "cells": [
  {
   "cell_type": "code",
   "execution_count": 180,
   "metadata": {},
   "outputs": [
    {
     "data": {
      "text/plain": [
       "(45067, 3)"
      ]
     },
     "execution_count": 180,
     "metadata": {},
     "output_type": "execute_result"
    }
   ],
   "source": [
    "import pandas as pd\n",
    "r=pd.read_csv(\"dataset.csv\")\n",
    "r.shape"
   ]
  },
  {
   "cell_type": "code",
   "execution_count": 181,
   "metadata": {},
   "outputs": [
    {
     "data": {
      "text/plain": [
       "title        126\n",
       "text          52\n",
       "True/Fake     30\n",
       "dtype: int64"
      ]
     },
     "execution_count": 181,
     "metadata": {},
     "output_type": "execute_result"
    }
   ],
   "source": [
    "r.isnull().sum()"
   ]
  },
  {
   "cell_type": "code",
   "execution_count": 182,
   "metadata": {},
   "outputs": [],
   "source": [
    "import numpy as np\n",
    "import re\n",
    "from nltk.corpus import stopwords\n",
    "from nltk.stem.porter import PorterStemmer\n",
    "from sklearn.feature_extraction.text import TfidfVectorizer\n",
    "from sklearn.model_selection import train_test_split\n",
    "from sklearn.linear_model import LogisticRegression\n",
    "from sklearn.metrics import accuracy_score"
   ]
  },
  {
   "cell_type": "code",
   "execution_count": 183,
   "metadata": {},
   "outputs": [
    {
     "name": "stderr",
     "output_type": "stream",
     "text": [
      "[nltk_data] Downloading package stopwords to\n",
      "[nltk_data]     C:\\Users\\willi\\AppData\\Roaming\\nltk_data...\n",
      "[nltk_data]   Package stopwords is already up-to-date!\n"
     ]
    },
    {
     "data": {
      "text/plain": [
       "True"
      ]
     },
     "execution_count": 183,
     "metadata": {},
     "output_type": "execute_result"
    }
   ],
   "source": [
    "import nltk\n",
    "nltk.download(\"stopwords\")"
   ]
  },
  {
   "cell_type": "code",
   "execution_count": 184,
   "metadata": {},
   "outputs": [],
   "source": [
    "news_dataset=pd.read_csv(\"dataset.csv\")"
   ]
  },
  {
   "cell_type": "code",
   "execution_count": 185,
   "metadata": {},
   "outputs": [
    {
     "data": {
      "text/plain": [
       "title        126\n",
       "text          52\n",
       "True/Fake     30\n",
       "dtype: int64"
      ]
     },
     "execution_count": 185,
     "metadata": {},
     "output_type": "execute_result"
    }
   ],
   "source": [
    "news_dataset.isnull().sum()"
   ]
  },
  {
   "cell_type": "code",
   "execution_count": 186,
   "metadata": {},
   "outputs": [],
   "source": [
    "news_dataset=news_dataset.dropna()\n",
    "news_dataset=news_dataset.reset_index(drop=True)"
   ]
  },
  {
   "cell_type": "code",
   "execution_count": 187,
   "metadata": {},
   "outputs": [
    {
     "data": {
      "text/plain": [
       "title        0\n",
       "text         0\n",
       "True/Fake    0\n",
       "content      0\n",
       "dtype: int64"
      ]
     },
     "execution_count": 187,
     "metadata": {},
     "output_type": "execute_result"
    }
   ],
   "source": [
    "news_dataset[\"content\"]=news_dataset[\"title\"]+\" \"+news_dataset[\"text\"]\n",
    "news_dataset.isnull().sum()"
   ]
  },
  {
   "cell_type": "code",
   "execution_count": 188,
   "metadata": {},
   "outputs": [],
   "source": [
    "X=news_dataset.drop(columns=\"True/Fake\",axis=1)\n",
    "Y=news_dataset[\"True/Fake\"]"
   ]
  },
  {
   "cell_type": "code",
   "execution_count": 189,
   "metadata": {},
   "outputs": [
    {
     "data": {
      "text/html": [
       "<div>\n",
       "<style scoped>\n",
       "    .dataframe tbody tr th:only-of-type {\n",
       "        vertical-align: middle;\n",
       "    }\n",
       "\n",
       "    .dataframe tbody tr th {\n",
       "        vertical-align: top;\n",
       "    }\n",
       "\n",
       "    .dataframe thead th {\n",
       "        text-align: right;\n",
       "    }\n",
       "</style>\n",
       "<table border=\"1\" class=\"dataframe\">\n",
       "  <thead>\n",
       "    <tr style=\"text-align: right;\">\n",
       "      <th></th>\n",
       "      <th>title</th>\n",
       "      <th>text</th>\n",
       "      <th>content</th>\n",
       "    </tr>\n",
       "  </thead>\n",
       "  <tbody>\n",
       "    <tr>\n",
       "      <th>0</th>\n",
       "      <td>Donald Trump Sends Out Embarrassing New Year’...</td>\n",
       "      <td>Donald Trump just couldn t wish all Americans ...</td>\n",
       "      <td>Donald Trump Sends Out Embarrassing New Year’...</td>\n",
       "    </tr>\n",
       "    <tr>\n",
       "      <th>1</th>\n",
       "      <td>Drunk Bragging Trump Staffer Started Russian ...</td>\n",
       "      <td>House Intelligence Committee Chairman Devin Nu...</td>\n",
       "      <td>Drunk Bragging Trump Staffer Started Russian ...</td>\n",
       "    </tr>\n",
       "    <tr>\n",
       "      <th>2</th>\n",
       "      <td>Sheriff David Clarke Becomes An Internet Joke...</td>\n",
       "      <td>On Friday, it was revealed that former Milwauk...</td>\n",
       "      <td>Sheriff David Clarke Becomes An Internet Joke...</td>\n",
       "    </tr>\n",
       "    <tr>\n",
       "      <th>3</th>\n",
       "      <td>Trump Is So Obsessed He Even Has Obama’s Name...</td>\n",
       "      <td>On Christmas day, Donald Trump announced that ...</td>\n",
       "      <td>Trump Is So Obsessed He Even Has Obama’s Name...</td>\n",
       "    </tr>\n",
       "    <tr>\n",
       "      <th>4</th>\n",
       "      <td>Pope Francis Just Called Out Donald Trump Dur...</td>\n",
       "      <td>Pope Francis used his annual Christmas Day mes...</td>\n",
       "      <td>Pope Francis Just Called Out Donald Trump Dur...</td>\n",
       "    </tr>\n",
       "    <tr>\n",
       "      <th>...</th>\n",
       "      <td>...</td>\n",
       "      <td>...</td>\n",
       "      <td>...</td>\n",
       "    </tr>\n",
       "    <tr>\n",
       "      <th>44926</th>\n",
       "      <td>'Fully committed' NATO backs new U.S. approach...</td>\n",
       "      <td>BRUSSELS (Reuters) - NATO allies on Tuesday we...</td>\n",
       "      <td>'Fully committed' NATO backs new U.S. approach...</td>\n",
       "    </tr>\n",
       "    <tr>\n",
       "      <th>44927</th>\n",
       "      <td>LexisNexis withdrew two products from Chinese ...</td>\n",
       "      <td>LONDON (Reuters) - LexisNexis, a provider of l...</td>\n",
       "      <td>LexisNexis withdrew two products from Chinese ...</td>\n",
       "    </tr>\n",
       "    <tr>\n",
       "      <th>44928</th>\n",
       "      <td>Minsk cultural hub becomes haven from authorities</td>\n",
       "      <td>MINSK (Reuters) - In the shadow of disused Sov...</td>\n",
       "      <td>Minsk cultural hub becomes haven from authorit...</td>\n",
       "    </tr>\n",
       "    <tr>\n",
       "      <th>44929</th>\n",
       "      <td>Vatican upbeat on possibility of Pope Francis ...</td>\n",
       "      <td>MOSCOW (Reuters) - Vatican Secretary of State ...</td>\n",
       "      <td>Vatican upbeat on possibility of Pope Francis ...</td>\n",
       "    </tr>\n",
       "    <tr>\n",
       "      <th>44930</th>\n",
       "      <td>Indonesia to buy $1.14 billion worth of Russia...</td>\n",
       "      <td>JAKARTA (Reuters) - Indonesia will buy 11 Sukh...</td>\n",
       "      <td>Indonesia to buy $1.14 billion worth of Russia...</td>\n",
       "    </tr>\n",
       "  </tbody>\n",
       "</table>\n",
       "<p>44931 rows × 3 columns</p>\n",
       "</div>"
      ],
      "text/plain": [
       "                                                   title  \\\n",
       "0       Donald Trump Sends Out Embarrassing New Year’...   \n",
       "1       Drunk Bragging Trump Staffer Started Russian ...   \n",
       "2       Sheriff David Clarke Becomes An Internet Joke...   \n",
       "3       Trump Is So Obsessed He Even Has Obama’s Name...   \n",
       "4       Pope Francis Just Called Out Donald Trump Dur...   \n",
       "...                                                  ...   \n",
       "44926  'Fully committed' NATO backs new U.S. approach...   \n",
       "44927  LexisNexis withdrew two products from Chinese ...   \n",
       "44928  Minsk cultural hub becomes haven from authorities   \n",
       "44929  Vatican upbeat on possibility of Pope Francis ...   \n",
       "44930  Indonesia to buy $1.14 billion worth of Russia...   \n",
       "\n",
       "                                                    text  \\\n",
       "0      Donald Trump just couldn t wish all Americans ...   \n",
       "1      House Intelligence Committee Chairman Devin Nu...   \n",
       "2      On Friday, it was revealed that former Milwauk...   \n",
       "3      On Christmas day, Donald Trump announced that ...   \n",
       "4      Pope Francis used his annual Christmas Day mes...   \n",
       "...                                                  ...   \n",
       "44926  BRUSSELS (Reuters) - NATO allies on Tuesday we...   \n",
       "44927  LONDON (Reuters) - LexisNexis, a provider of l...   \n",
       "44928  MINSK (Reuters) - In the shadow of disused Sov...   \n",
       "44929  MOSCOW (Reuters) - Vatican Secretary of State ...   \n",
       "44930  JAKARTA (Reuters) - Indonesia will buy 11 Sukh...   \n",
       "\n",
       "                                                 content  \n",
       "0       Donald Trump Sends Out Embarrassing New Year’...  \n",
       "1       Drunk Bragging Trump Staffer Started Russian ...  \n",
       "2       Sheriff David Clarke Becomes An Internet Joke...  \n",
       "3       Trump Is So Obsessed He Even Has Obama’s Name...  \n",
       "4       Pope Francis Just Called Out Donald Trump Dur...  \n",
       "...                                                  ...  \n",
       "44926  'Fully committed' NATO backs new U.S. approach...  \n",
       "44927  LexisNexis withdrew two products from Chinese ...  \n",
       "44928  Minsk cultural hub becomes haven from authorit...  \n",
       "44929  Vatican upbeat on possibility of Pope Francis ...  \n",
       "44930  Indonesia to buy $1.14 billion worth of Russia...  \n",
       "\n",
       "[44931 rows x 3 columns]"
      ]
     },
     "execution_count": 189,
     "metadata": {},
     "output_type": "execute_result"
    }
   ],
   "source": [
    "X"
   ]
  },
  {
   "cell_type": "code",
   "execution_count": 190,
   "metadata": {},
   "outputs": [],
   "source": [
    "port_stem=PorterStemmer()"
   ]
  },
  {
   "cell_type": "code",
   "execution_count": 191,
   "metadata": {},
   "outputs": [],
   "source": [
    "stop_words=stopwords.words(\"english\")\n",
    "stop_words.extend([\"washington\",\"reuters\",\"reuter\",\"newyork\",\"new\",\"york\",\"century\",\"st\",\"pittsburgh\",\"berlin\",\"moscow\",\"paris\",\"miami\",\"geneva\"])"
   ]
  },
  {
   "cell_type": "code",
   "execution_count": 192,
   "metadata": {},
   "outputs": [],
   "source": [
    "def stemming(content):\n",
    "    stemmed_content=re.sub(\"[^a-zA-Z]\",\" \",content)\n",
    "    stemmed_content=stemmed_content.lower()\n",
    "    stemmed_content=stemmed_content.split()\n",
    "    stemmed_content=[port_stem.stem(word) for word in stemmed_content if not word in stop_words]\n",
    "    return stemmed_content"
   ]
  },
  {
   "cell_type": "code",
   "execution_count": 193,
   "metadata": {},
   "outputs": [
    {
     "data": {
      "text/plain": [
       "0        [donald, trump, send, embarrass, year, eve, me...\n",
       "1        [drunk, brag, trump, staffer, start, russian, ...\n",
       "2        [sheriff, david, clark, becom, internet, joke,...\n",
       "3        [trump, obsess, even, obama, name, code, websi...\n",
       "4        [pope, franci, call, donald, trump, christma, ...\n",
       "                               ...                        \n",
       "44926    [fulli, commit, nato, back, u, approach, afgha...\n",
       "44927    [lexisnexi, withdrew, two, product, chines, ma...\n",
       "44928    [minsk, cultur, hub, becom, author, minsk, sha...\n",
       "44929    [vatican, upbeat, possibl, pope, franci, visit...\n",
       "44930    [indonesia, buy, billion, worth, russian, jet,...\n",
       "Name: content, Length: 44931, dtype: object"
      ]
     },
     "execution_count": 193,
     "metadata": {},
     "output_type": "execute_result"
    }
   ],
   "source": [
    "news_dataset[\"content\"]=news_dataset[\"content\"].apply(stemming)\n",
    "news_dataset[\"content\"]"
   ]
  },
  {
   "cell_type": "code",
   "execution_count": 194,
   "metadata": {},
   "outputs": [],
   "source": [
    "def joining(content):\n",
    "    return \" \".join(content)"
   ]
  },
  {
   "cell_type": "code",
   "execution_count": 195,
   "metadata": {},
   "outputs": [],
   "source": [
    "news_dataset[\"content\"]=news_dataset[\"content\"].apply(joining)"
   ]
  },
  {
   "cell_type": "code",
   "execution_count": 196,
   "metadata": {},
   "outputs": [],
   "source": [
    "X=news_dataset[\"content\"].values\n",
    "Y=news_dataset[\"True/Fake\"].values"
   ]
  },
  {
   "cell_type": "code",
   "execution_count": 197,
   "metadata": {},
   "outputs": [
    {
     "name": "stdout",
     "output_type": "stream",
     "text": [
      "<class 'numpy.ndarray'>\n"
     ]
    }
   ],
   "source": [
    "print(type(X))"
   ]
  },
  {
   "cell_type": "code",
   "execution_count": 198,
   "metadata": {},
   "outputs": [],
   "source": [
    "vectorizer=TfidfVectorizer()\n",
    "vectorizer.fit(X)\n",
    "X=vectorizer.transform(X)"
   ]
  },
  {
   "cell_type": "code",
   "execution_count": 199,
   "metadata": {},
   "outputs": [
    {
     "name": "stdout",
     "output_type": "stream",
     "text": [
      "  (0, 87845)\t0.28502911764622724\n",
      "  (0, 87768)\t0.08726479432169805\n",
      "  (0, 86698)\t0.031952324374774556\n",
      "  (0, 86542)\t0.02752560635086121\n",
      "  (0, 86460)\t0.018995298392183373\n",
      "  (0, 86446)\t0.027488526560309926\n",
      "  (0, 86362)\t0.03493265073217099\n",
      "  (0, 86039)\t0.18789566550919387\n",
      "  (0, 85165)\t0.026896562348279522\n",
      "  (0, 85154)\t0.09059830212198207\n",
      "  (0, 85143)\t0.06148651101807786\n",
      "  (0, 85115)\t0.09059830212198207\n",
      "  (0, 84470)\t0.03743428830107175\n",
      "  (0, 83907)\t0.021533693547392842\n",
      "  (0, 82250)\t0.03793641026751029\n",
      "  (0, 80190)\t0.023097006911857\n",
      "  (0, 80130)\t0.11087421006072838\n",
      "  (0, 79453)\t0.13828043043898086\n",
      "  (0, 77457)\t0.020740789129455765\n",
      "  (0, 77082)\t0.09059830212198207\n",
      "  (0, 77029)\t0.05707506521849033\n",
      "  (0, 76763)\t0.026780318946314236\n",
      "  (0, 76519)\t0.04538682335074601\n",
      "  (0, 75876)\t0.02232643196473135\n",
      "  (0, 75854)\t0.08726479432169805\n",
      "  :\t:\n",
      "  (44930, 16750)\t0.04490611995977851\n",
      "  (44930, 16694)\t0.040448208526258786\n",
      "  (44930, 15811)\t0.055814348609469655\n",
      "  (44930, 15746)\t0.027453767869138765\n",
      "  (44930, 15446)\t0.052363760628082345\n",
      "  (44930, 15303)\t0.08857659866468895\n",
      "  (44930, 15122)\t0.09186557945532456\n",
      "  (44930, 14871)\t0.042000462404775576\n",
      "  (44930, 14826)\t0.2561447028576063\n",
      "  (44930, 14474)\t0.08444654255894687\n",
      "  (44930, 11718)\t0.12498243279615145\n",
      "  (44930, 10799)\t0.058260925481453764\n",
      "  (44930, 10610)\t0.10828007495218736\n",
      "  (44930, 7686)\t0.09135438526321461\n",
      "  (44930, 7639)\t0.06998235023371854\n",
      "  (44930, 4952)\t0.16729075123254045\n",
      "  (44930, 4282)\t0.06659385566440966\n",
      "  (44930, 4280)\t0.061099175498746536\n",
      "  (44930, 2692)\t0.041132277621622276\n",
      "  (44930, 2623)\t0.05693145595876771\n",
      "  (44930, 2299)\t0.024128766387079253\n",
      "  (44930, 1479)\t0.046859410389932576\n",
      "  (44930, 1191)\t0.05557482639168609\n",
      "  (44930, 724)\t0.048386651921310496\n",
      "  (44930, 477)\t0.07576641555186231\n"
     ]
    }
   ],
   "source": [
    "print(X)"
   ]
  },
  {
   "cell_type": "code",
   "execution_count": 200,
   "metadata": {},
   "outputs": [],
   "source": [
    "X_train,X_test,Y_train,Y_test=train_test_split(X,Y,test_size=0.2,stratify=Y,random_state=2)"
   ]
  },
  {
   "cell_type": "code",
   "execution_count": 201,
   "metadata": {},
   "outputs": [],
   "source": [
    "model=LogisticRegression()"
   ]
  },
  {
   "cell_type": "code",
   "execution_count": 202,
   "metadata": {},
   "outputs": [
    {
     "data": {
      "text/plain": [
       "LogisticRegression()"
      ]
     },
     "execution_count": 202,
     "metadata": {},
     "output_type": "execute_result"
    }
   ],
   "source": [
    "model.fit(X_train,Y_train)"
   ]
  },
  {
   "cell_type": "code",
   "execution_count": 203,
   "metadata": {},
   "outputs": [],
   "source": [
    "x_train_prediction=model.predict(X_train)\n",
    "training_data_accuracy=accuracy_score(x_train_prediction,Y_train)"
   ]
  },
  {
   "cell_type": "code",
   "execution_count": 204,
   "metadata": {},
   "outputs": [
    {
     "name": "stdout",
     "output_type": "stream",
     "text": [
      "0.9872023147117739\n"
     ]
    }
   ],
   "source": [
    "print(training_data_accuracy)"
   ]
  },
  {
   "cell_type": "code",
   "execution_count": 205,
   "metadata": {},
   "outputs": [
    {
     "name": "stdout",
     "output_type": "stream",
     "text": [
      "0.9794147101368643\n"
     ]
    }
   ],
   "source": [
    "x_test_prediction=model.predict(X_test)\n",
    "test_data_accuracy=accuracy_score(x_test_prediction,Y_test)\n",
    "print(test_data_accuracy)"
   ]
  },
  {
   "cell_type": "code",
   "execution_count": 206,
   "metadata": {},
   "outputs": [],
   "source": [
    "class Predictor():\n",
    "    def predict(news):\n",
    "        stemmed=stemming(news)\n",
    "        stemmed=joining(stemmed)\n",
    "        print(type(stemmed))\n",
    "        stemmed=vectorizer.transform([stemmed])\n",
    "        return model.predict(stemmed)\n",
    "prediction=Predictor()\n"
   ]
  },
  {
   "cell_type": "code",
   "execution_count": 207,
   "metadata": {},
   "outputs": [
    {
     "name": "stdout",
     "output_type": "stream",
     "text": [
      "<class 'str'>\n"
     ]
    },
    {
     "data": {
      "text/plain": [
       "array([0.])"
      ]
     },
     "execution_count": 207,
     "metadata": {},
     "output_type": "execute_result"
    }
   ],
   "source": [
    "Predictor.predict(\"Leo must be drinking the climate change Kool-Aid:  It is the most existential human crisis that the world has ever known, in my opinion. Fresh from filming The Revenant, DiCaprio and the film s director Alejandro I rritu recounted how they experienced the devastating affects of climate change on location in Argentina in the nine months that it took to make the movie. Yep, he really believes all this bs. This would all be funny except for the fact that DiCaprio is head of a multimillion-dollar environmental lobby group, the Leonardo DiCaprio Foundation, and a producer of documentaries on climate change.DiCaprio just gave $15 million to environmental causes last year.Here he s pictured with the commie head of the UN: \")"
   ]
  },
  {
   "cell_type": "code",
   "execution_count": 208,
   "metadata": {},
   "outputs": [],
   "source": [
    "import pickle\n",
    "pickle.dump(model,open(\"model.pkl\",\"wb\"))\n",
    "pickle.dump(vectorizer,open(\"vectorizer.pkl\",\"wb\"))"
   ]
  },
  {
   "cell_type": "code",
   "execution_count": 209,
   "metadata": {},
   "outputs": [],
   "source": [
    "loaded=pickle.load(open(\"model.pkl\",\"rb\"))"
   ]
  },
  {
   "cell_type": "code",
   "execution_count": 210,
   "metadata": {},
   "outputs": [],
   "source": [
    "def predictor1(news):\n",
    "    a=loaded.stemming(news)\n",
    "    a=loaded.joining(a)\n",
    "    a=loaded.vectorizer.transform([a])"
   ]
  }
 ],
 "metadata": {
  "interpreter": {
   "hash": "adc9bb8b32507af041d48f79beff297e5596f2d08c3fa998d68427d7acb13fb8"
  },
  "kernelspec": {
   "display_name": "Python 3.9.7 64-bit",
   "language": "python",
   "name": "python3"
  },
  "language_info": {
   "codemirror_mode": {
    "name": "ipython",
    "version": 3
   },
   "file_extension": ".py",
   "mimetype": "text/x-python",
   "name": "python",
   "nbconvert_exporter": "python",
   "pygments_lexer": "ipython3",
   "version": "3.9.7"
  },
  "orig_nbformat": 4
 },
 "nbformat": 4,
 "nbformat_minor": 2
}
